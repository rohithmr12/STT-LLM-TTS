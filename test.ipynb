{
 "cells": [
  {
   "cell_type": "code",
   "execution_count": 15,
   "metadata": {},
   "outputs": [],
   "source": [
    "import re \n",
    "response=content='The current Prime Minister of India is Narendra Modi.'\n",
    "matches = re.findall(r\".*?\", response)"
   ]
  },
  {
   "cell_type": "code",
   "execution_count": 17,
   "metadata": {},
   "outputs": [],
   "source": [
    "result_string = ''.join(filter(None, matches))\n"
   ]
  },
  {
   "cell_type": "code",
   "execution_count": 18,
   "metadata": {},
   "outputs": [
    {
     "data": {
      "text/plain": [
       "'The current Prime Minister of India is Narendra Modi.'"
      ]
     },
     "execution_count": 18,
     "metadata": {},
     "output_type": "execute_result"
    }
   ],
   "source": [
    "result_string"
   ]
  },
  {
   "cell_type": "code",
   "execution_count": 19,
   "metadata": {},
   "outputs": [
    {
     "name": "stdout",
     "output_type": "stream",
     "text": [
      "Audio file saved to: C:\\Users\\rohit\\AppData\\Local\\Temp\\tmpzyzusnz0.mp3\n"
     ]
    }
   ],
   "source": [
    "from gtts import gTTS\n",
    "import tempfile\n",
    "import os\n",
    "\n",
    "def text_to_speech(text):\n",
    "    # Create a gTTS object with the given text\n",
    "    tts = gTTS(text=text, lang='en')\n",
    "\n",
    "    # Create a temporary file to save the audio\n",
    "    with tempfile.NamedTemporaryFile(suffix=\".mp3\", delete=False) as temp_audio:\n",
    "        temp_audio_path = temp_audio.name\n",
    "        tts.save(temp_audio_path)\n",
    "\n",
    "    return temp_audio_path\n",
    "\n",
    "# Example usage:\n",
    "text = \"Hello, how are you?\"\n",
    "audio_file_path = text_to_speech(text)\n",
    "print(\"Audio file saved to:\", audio_file_path)"
   ]
  }
 ],
 "metadata": {
  "kernelspec": {
   "display_name": "Python 3",
   "language": "python",
   "name": "python3"
  },
  "language_info": {
   "codemirror_mode": {
    "name": "ipython",
    "version": 3
   },
   "file_extension": ".py",
   "mimetype": "text/x-python",
   "name": "python",
   "nbconvert_exporter": "python",
   "pygments_lexer": "ipython3",
   "version": "3.12.1"
  }
 },
 "nbformat": 4,
 "nbformat_minor": 2
}
